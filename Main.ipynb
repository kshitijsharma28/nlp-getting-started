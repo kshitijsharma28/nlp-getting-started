{
 "cells": [
  {
   "cell_type": "markdown",
   "metadata": {},
   "source": [
    "https://www.kaggle.com/c/nlp-getting-started"
   ]
  },
  {
   "cell_type": "code",
   "execution_count": 1,
   "metadata": {},
   "outputs": [],
   "source": [
    "#%% Import packages\n",
    "import os, sys\n",
    "\n",
    "import pandas as pd\n",
    "from sklearn.feature_extraction.text import CountVectorizer, TfidfVectorizer\n",
    "from nltk.corpus import stopwords\n",
    "\n",
    "from sklearn.pipeline import Pipeline\n",
    "from sklearn.model_selection import train_test_split\n",
    "from sklearn.metrics import accuracy_score, precision_score, recall_score, \\\n",
    "                            f1_score\n",
    "from sklearn.pipeline import FeatureUnion\n",
    "    \n",
    "from sklearn.naive_bayes import MultinomialNB\n",
    "\n",
    "from matplotlib import pyplot as plt\n",
    "\n",
    "from sklearn.ensemble import RandomForestClassifier\n",
    "from sklearn.svm import SVC\n",
    "\n",
    "from IPython import display"
   ]
  },
  {
   "cell_type": "code",
   "execution_count": 2,
   "metadata": {},
   "outputs": [],
   "source": [
    "# adding custom path for importing custom defs\n",
    "module_path = os.path.abspath(os.path.join('..', '..'))\n",
    "if module_path not in sys.path:\n",
    "    sys.path.append(module_path)"
   ]
  },
  {
   "cell_type": "code",
   "execution_count": 3,
   "metadata": {},
   "outputs": [],
   "source": [
    "#%% Import custom packages\n",
    "from my_defs.model import *\n",
    "from my_defs.text import *"
   ]
  },
  {
   "cell_type": "code",
   "execution_count": 4,
   "metadata": {},
   "outputs": [],
   "source": [
    "#%% Import Datasets\n",
    "train_df = pd.read_csv('../input_data/train.csv')\n",
    "test_df = pd.read_csv('../input_data/test.csv')\n",
    "submission_df = pd.read_csv('../input_data/sample_submission.csv')"
   ]
  },
  {
   "cell_type": "code",
   "execution_count": 5,
   "metadata": {},
   "outputs": [
    {
     "name": "stdout",
     "output_type": "stream",
     "text": [
      "0    0.57034\n",
      "1    0.42966\n",
      "Name: target, dtype: float64\n"
     ]
    },
    {
     "data": {
      "image/png": "[encoded data removed]",
      "text/plain": [
       "<Figure size 432x288 with 1 Axes>"
      ]
     },
     "metadata": {
      "needs_background": "light"
     },
     "output_type": "display_data"
    }
   ],
   "source": [
    "print(train_df['target'].value_counts(normalize=True))\n",
    "train_df['target'].value_counts(normalize=True).plot(kind='bar');"
   ]
  },
  {
   "cell_type": "code",
   "execution_count": 6,
   "metadata": {},
   "outputs": [],
   "source": [
    "#%%\n",
    "# text processing\n",
    "train_df['text_processed'] = text_cleanup(train_df['text'])"
   ]
  },
  {
   "cell_type": "code",
   "execution_count": 7,
   "metadata": {},
   "outputs": [],
   "source": [
    "#%% Test train split\n",
    "X_train, X_test, y_train, y_test = \\\n",
    "    train_test_split(train_df['text_processed'], train_df['target'], \\\n",
    "                     test_size=0.25, random_state=33)"
   ]
  },
  {
   "cell_type": "code",
   "execution_count": 8,
   "metadata": {},
   "outputs": [
    {
     "name": "stdout",
     "output_type": "stream",
     "text": [
      "   Accuracy  Precision     Recall         F1\n",
      "--------------------------------------------\n",
      "    0.90173    0.92079    0.84163    0.87943 <-- train\n",
      "    0.77363    0.78052    0.67738    0.72530  <-- test\n"
     ]
    }
   ],
   "source": [
    "#%%\n",
    "# Count vectoriser --> Multinomial NB\n",
    "pipeline = Pipeline([('vectorizer', CountVectorizer()), ('classifier', MultinomialNB())])\n",
    "nb_count = train(pipeline, X_train, y_train, X_test, y_test, score_training_data=True)\n",
    "\n",
    "#test_df['target'] = clf.predict(text_cleanup(test_df['text']))\n",
    "#test_df[['id', 'target']].to_csv('../submissions/submission_naivebayes.csv', \\\n",
    "#                                 index=False)"
   ]
  },
  {
   "cell_type": "code",
   "execution_count": 9,
   "metadata": {},
   "outputs": [
    {
     "name": "stdout",
     "output_type": "stream",
     "text": [
      "   Accuracy  Precision     Recall         F1\n",
      "--------------------------------------------\n",
      "    0.88877    0.95262    0.77746    0.85617 <-- train\n",
      "    0.77206    0.82637    0.61190    0.70315  <-- test\n"
     ]
    }
   ],
   "source": [
    "#%%\n",
    "# Tfidf vectoriser --> Multinomial NB\n",
    "pipeline = Pipeline([('vectorizer', TfidfVectorizer()), ('classifier', MultinomialNB())])\n",
    "nb_tfidf = train(pipeline, X_train, y_train, X_test, y_test, score_training_data=True)"
   ]
  },
  {
   "cell_type": "code",
   "execution_count": 10,
   "metadata": {},
   "outputs": [
    {
     "name": "stdout",
     "output_type": "stream",
     "text": [
      "   Accuracy  Precision     Recall         F1\n",
      "--------------------------------------------\n",
      "    0.94255    0.97904    0.88400    0.92910 <-- train\n",
      "    0.78571    0.85644    0.61786    0.71784  <-- test\n"
     ]
    }
   ],
   "source": [
    "#%%\n",
    "# Count vectoriser --> SVM\n",
    "pipeline = Pipeline([('vectorizer', CountVectorizer()), ('classifier', SVC(probability=True))])\n",
    "svc_count = train(pipeline, X_train, y_train, X_test, y_test, score_training_data=True)\n",
    "\n"
   ]
  },
  {
   "cell_type": "code",
   "execution_count": 12,
   "metadata": {},
   "outputs": [],
   "source": [
    "test_df['target'] = svc_count.predict(text_cleanup(test_df['text']))\n",
    "test_df[['id', 'target']].to_csv('../submissions/submission_svm.csv', \\\n",
    "                                 index=False)"
   ]
  },
  {
   "cell_type": "code",
   "execution_count": 13,
   "metadata": {},
   "outputs": [],
   "source": [
    "train_df['tfidf_naivebayes'] = nb_tfidf.predict_proba(train_df['text_processed'])[:, 0]\n",
    "train_df['count_naivebayes'] = nb_count.predict_proba(train_df['text_processed'])[:, 0]\n",
    "train_df['count_svm'] = svc_count.predict_proba(train_df['text_processed'])[:, 0]\n",
    "train_df['keyword_present'] = train_df['keyword'].notnull()\n",
    "train_df['location_present'] = train_df['location'].notnull()"
   ]
  },
  {
   "cell_type": "code",
   "execution_count": 18,
   "metadata": {},
   "outputs": [
    {
     "name": "stdout",
     "output_type": "stream",
     "text": [
      "   Accuracy  Precision     Recall         F1\n",
      "--------------------------------------------\n",
      "    0.99194    0.99175    0.98930    0.99053 <-- train\n",
      "    0.74737    0.69967    0.74881    0.72340  <-- test\n"
     ]
    }
   ],
   "source": [
    "cols = ['tfidf_naivebayes', 'count_naivebayes', 'count_svm', 'keyword_present', 'location_present']\n",
    "\n",
    "X1_train, X1_test, y1_train, y1_test = \\\n",
    "    train_test_split(train_df[cols], train_df['target'], \\\n",
    "                     test_size=0.25, random_state=33)\n",
    "\n",
    "\n",
    "clf_final = RandomForestClassifier(n_estimators=500)\n",
    "\n",
    "clf_final = train(clf_final, X1_train, y1_train, X1_test, y1_test, score_training_data=True)\n",
    "train_df['pred_target'] = clf_final.predict(train_df[cols])"
   ]
  },
  {
   "cell_type": "code",
   "execution_count": 14,
   "metadata": {},
   "outputs": [
    {
     "name": "stdout",
     "output_type": "stream",
     "text": [
      "Destruction magic's fine just don't go burning down any buildings.\n",
      "destruction magic s fine go burning building\n",
      "1 0\n",
      "-------------------------------------------\n",
      "Angry Woman Openly Accuses NEMA Of Stealing Relief Materials Meant For IDPs: An angry Internally Displaced wom... http://t.co/6ySbCSSzYS\n",
      "angry woman openly accuses nema stealing relief material meant idps: angry internally displaced wom link\n",
      "0 1\n",
      "-------------------------------------------\n",
      "@ictyosaur I never thought it would be a wtf moment yet it's here after months of 90 degree heat\n",
      "Next we will have flash floods..\n",
      "taggedword never thought would wtf moment yet month 90 degree heat next flash flood\n",
      "1 0\n",
      "-------------------------------------------\n",
      "Wed 20:30: Mainly cloudy. 60 percent chance of showers this evening with risk of a thunderstorm. Low 10.\n",
      "wed 20:30: mainly cloudy 60 percent chance shower evening risk thunderstorm low 10\n",
      "0 1\n",
      "-------------------------------------------\n",
      "@rvfriedmann Hell is just a fraction of his belief of total annihilation destruction of USA @LodiSilverado @ritzy_jewels\n",
      "taggedword hell fraction belief total annihilation destruction usa taggedword taggedword\n",
      "1 0\n",
      "-------------------------------------------\n"
     ]
    }
   ],
   "source": [
    "train_df['pred_target'] = nb_count.predict(train_df['text_processed'])\n",
    "for i, r in train_df[train_df['pred_target'] != train_df['target']][['id', 'text', 'text_processed', 'target', 'pred_target']].sample(5).iterrows():\n",
    "    print(r['text'])\n",
    "    print(r['text_processed'])\n",
    "    print(r['target'], r['pred_target'])\n",
    "    print('-------------------------------------------')"
   ]
  },
  {
   "cell_type": "code",
   "execution_count": 15,
   "metadata": {},
   "outputs": [
    {
     "data": {
      "text/plain": [
       "array([nan, 'ablaze', 'accident', 'aftershock', 'airplane%20accident',\n",
       "       'ambulance', 'annihilated', 'annihilation', 'apocalypse',\n",
       "       'armageddon', 'army', 'arson', 'arsonist', 'attack', 'attacked',\n",
       "       'avalanche', 'battle', 'bioterror', 'bioterrorism', 'blaze',\n",
       "       'blazing', 'bleeding', 'blew%20up', 'blight', 'blizzard', 'blood',\n",
       "       'bloody', 'blown%20up', 'body%20bag', 'body%20bagging',\n",
       "       'body%20bags', 'bomb', 'bombed', 'bombing', 'bridge%20collapse',\n",
       "       'buildings%20burning', 'buildings%20on%20fire', 'burned',\n",
       "       'burning', 'burning%20buildings', 'bush%20fires', 'casualties',\n",
       "       'casualty', 'catastrophe', 'catastrophic', 'chemical%20emergency',\n",
       "       'cliff%20fall', 'collapse', 'collapsed', 'collide', 'collided',\n",
       "       'collision', 'crash', 'crashed', 'crush', 'crushed', 'curfew',\n",
       "       'cyclone', 'damage', 'danger', 'dead', 'death', 'deaths', 'debris',\n",
       "       'deluge', 'deluged', 'demolish', 'demolished', 'demolition',\n",
       "       'derail', 'derailed', 'derailment', 'desolate', 'desolation',\n",
       "       'destroy', 'destroyed', 'destruction', 'detonate', 'detonation',\n",
       "       'devastated', 'devastation', 'disaster', 'displaced', 'drought',\n",
       "       'drown', 'drowned', 'drowning', 'dust%20storm', 'earthquake',\n",
       "       'electrocute', 'electrocuted', 'emergency', 'emergency%20plan',\n",
       "       'emergency%20services', 'engulfed', 'epicentre', 'evacuate',\n",
       "       'evacuated', 'evacuation', 'explode', 'exploded', 'explosion',\n",
       "       'eyewitness', 'famine', 'fatal', 'fatalities', 'fatality', 'fear',\n",
       "       'fire', 'fire%20truck', 'first%20responders', 'flames',\n",
       "       'flattened', 'flood', 'flooding', 'floods', 'forest%20fire',\n",
       "       'forest%20fires', 'hail', 'hailstorm', 'harm', 'hazard',\n",
       "       'hazardous', 'heat%20wave', 'hellfire', 'hijack', 'hijacker',\n",
       "       'hijacking', 'hostage', 'hostages', 'hurricane', 'injured',\n",
       "       'injuries', 'injury', 'inundated', 'inundation', 'landslide',\n",
       "       'lava', 'lightning', 'loud%20bang', 'mass%20murder',\n",
       "       'mass%20murderer', 'massacre', 'mayhem', 'meltdown', 'military',\n",
       "       'mudslide', 'natural%20disaster', 'nuclear%20disaster',\n",
       "       'nuclear%20reactor', 'obliterate', 'obliterated', 'obliteration',\n",
       "       'oil%20spill', 'outbreak', 'pandemonium', 'panic', 'panicking',\n",
       "       'police', 'quarantine', 'quarantined', 'radiation%20emergency',\n",
       "       'rainstorm', 'razed', 'refugees', 'rescue', 'rescued', 'rescuers',\n",
       "       'riot', 'rioting', 'rubble', 'ruin', 'sandstorm', 'screamed',\n",
       "       'screaming', 'screams', 'seismic', 'sinkhole', 'sinking', 'siren',\n",
       "       'sirens', 'smoke', 'snowstorm', 'storm', 'stretcher',\n",
       "       'structural%20failure', 'suicide%20bomb', 'suicide%20bomber',\n",
       "       'suicide%20bombing', 'sunk', 'survive', 'survived', 'survivors',\n",
       "       'terrorism', 'terrorist', 'threat', 'thunder', 'thunderstorm',\n",
       "       'tornado', 'tragedy', 'trapped', 'trauma', 'traumatised',\n",
       "       'trouble', 'tsunami', 'twister', 'typhoon', 'upheaval',\n",
       "       'violent%20storm', 'volcano', 'war%20zone', 'weapon', 'weapons',\n",
       "       'whirlwind', 'wild%20fires', 'wildfire', 'windstorm', 'wounded',\n",
       "       'wounds', 'wreck', 'wreckage', 'wrecked'], dtype=object)"
      ]
     },
     "execution_count": 15,
     "metadata": {},
     "output_type": "execute_result"
    }
   ],
   "source": [
    "train_df['keyword'].unique()"
   ]
  },
  {
   "cell_type": "code",
   "execution_count": 20,
   "metadata": {},
   "outputs": [
    {
     "data": {
      "text/plain": [
       "'Well said Sir. My cousin was a POW. Brutally treated. Survived but never talked about it. The bombing was justified  link '"
      ]
     },
     "execution_count": 20,
     "metadata": {},
     "output_type": "execute_result"
    }
   ],
   "source": []
  },
  {
   "cell_type": "code",
   "execution_count": null,
   "metadata": {},
   "outputs": [],
   "source": []
  }
 ],
 "metadata": {
  "kernelspec": {
   "display_name": "Python 3",
   "language": "python",
   "name": "python3"
  },
  "language_info": {
   "codemirror_mode": {
    "name": "ipython",
    "version": 3
   },
   "file_extension": ".py",
   "mimetype": "text/x-python",
   "name": "python",
   "nbconvert_exporter": "python",
   "pygments_lexer": "ipython3",
   "version": "3.6.9"
  }
 },
 "nbformat": 4,
 "nbformat_minor": 4
}
