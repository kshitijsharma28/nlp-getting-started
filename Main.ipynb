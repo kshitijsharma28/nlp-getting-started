{
 "cells": [
  {
   "cell_type": "code",
   "execution_count": 1,
   "metadata": {},
   "outputs": [],
   "source": [
    "#%% Import packages\n",
    "import os, sys\n",
    "\n",
    "import pandas as pd\n",
    "from sklearn.feature_extraction.text import CountVectorizer, TfidfVectorizer\n",
    "from nltk.corpus import stopwords\n",
    "\n",
    "from sklearn.pipeline import Pipeline\n",
    "from sklearn.model_selection import train_test_split\n",
    "from sklearn.metrics import accuracy_score, precision_score, recall_score, \\\n",
    "                            f1_score\n",
    "from sklearn.naive_bayes import MultinomialNB"
   ]
  },
  {
   "cell_type": "code",
   "execution_count": 2,
   "metadata": {},
   "outputs": [],
   "source": [
    "# adding custom path for importing custom defs\n",
    "module_path = os.path.abspath(os.path.join('..', '..'))\n",
    "if module_path not in sys.path:\n",
    "    sys.path.append(module_path)"
   ]
  },
  {
   "cell_type": "code",
   "execution_count": 3,
   "metadata": {},
   "outputs": [],
   "source": [
    "#%% Import custom packages\n",
    "from my_defs.model import *\n",
    "from my_defs.text import *"
   ]
  },
  {
   "cell_type": "code",
   "execution_count": 4,
   "metadata": {},
   "outputs": [],
   "source": [
    "#%% Import Datasets\n",
    "train_df = pd.read_csv('../input_data/train.csv')\n",
    "test_df = pd.read_csv('../input_data/test.csv')\n",
    "submission_df = pd.read_csv('../input_data/sample_submission.csv')"
   ]
  },
  {
   "cell_type": "code",
   "execution_count": 5,
   "metadata": {},
   "outputs": [],
   "source": [
    "#%%\n",
    "train_df['text_processed'] = text_cleanup(train_df['text'])"
   ]
  },
  {
   "cell_type": "code",
   "execution_count": 6,
   "metadata": {},
   "outputs": [],
   "source": [
    "X_train, X_test, y_train, y_test = \\\n",
    "    train_test_split(train_df['text_processed'], train_df['target'], \\\n",
    "                     test_size=0.25, random_state=33)"
   ]
  },
  {
   "cell_type": "code",
   "execution_count": 26,
   "metadata": {},
   "outputs": [
    {
     "name": "stdout",
     "output_type": "stream",
     "text": [
      "-------\n",
      "   Accuracy  Precision     Recall         F1\n",
      "--------------------------------------------\n",
      "    0.93449    0.95050    0.89264    0.92066 <-- train\n",
      "    0.78099    0.78088    0.70000    0.73823  <-- test\n",
      "-------\n",
      "   Accuracy  Precision     Recall         F1\n",
      "--------------------------------------------\n",
      "    0.91049    0.96467    0.81983    0.88637 <-- train\n",
      "    0.77941    0.83546    0.62262    0.71351  <-- test\n",
      "-------\n",
      "   Accuracy  Precision     Recall         F1\n",
      "--------------------------------------------\n",
      "    0.93449    0.95011    0.89305    0.92070 <-- train\n",
      "    0.77941    0.77778    0.70000    0.73684  <-- test\n",
      "-------\n",
      "   Accuracy  Precision     Recall         F1\n",
      "--------------------------------------------\n",
      "    0.91680    0.96002    0.83957    0.89576 <-- train\n",
      "    0.77836    0.81287    0.64643    0.72016  <-- test\n"
     ]
    }
   ],
   "source": [
    "#%%\n",
    "\n",
    "config1 = [('vectorizer', CountVectorizer()), ('classifier', MultinomialNB())]\n",
    "config2 = [('vectorizer', TfidfVectorizer()), ('classifier', MultinomialNB())]\n",
    "config3 = [('vectorizer', CountVectorizer()), ('classifier', MultinomialNB(class_prior=(0.57, 0.43)))]\n",
    "config4 = [('vectorizer', TfidfVectorizer()), ('classifier', MultinomialNB(class_prior=(0.55, 0.45)))]\n",
    "\n",
    "for config in (config1, config2, config3, config4):\n",
    "    print('-------')\n",
    "    trial = Pipeline(config)\n",
    "    clf = train(trial, X_train, y_train, X_test, y_test, score_training_data=True)\n",
    "# %%\n",
    "\n",
    "#test_df['target'] = clf.predict(text_cleanup(test_df['text']))\n",
    "#test_df[['id', 'target']].to_csv('../submissions/submission_naivebayes.csv', \\\n",
    "#                                 index=False)"
   ]
  },
  {
   "cell_type": "code",
   "execution_count": 19,
   "metadata": {},
   "outputs": [
    {
     "data": {
      "text/plain": [
       "0    0.57034\n",
       "1    0.42966\n",
       "Name: target, dtype: float64"
      ]
     },
     "execution_count": 19,
     "metadata": {},
     "output_type": "execute_result"
    }
   ],
   "source": [
    "train_df['target'].value_counts(normalize=True)"
   ]
  },
  {
   "cell_type": "code",
   "execution_count": null,
   "metadata": {},
   "outputs": [],
   "source": []
  },
  {
   "cell_type": "code",
   "execution_count": null,
   "metadata": {},
   "outputs": [],
   "source": []
  },
  {
   "cell_type": "code",
   "execution_count": null,
   "metadata": {},
   "outputs": [],
   "source": []
  }
 ],
 "metadata": {
  "kernelspec": {
   "display_name": "Python 3",
   "language": "python",
   "name": "python3"
  },
  "language_info": {
   "codemirror_mode": {
    "name": "ipython",
    "version": 3
   },
   "file_extension": ".py",
   "mimetype": "text/x-python",
   "name": "python",
   "nbconvert_exporter": "python",
   "pygments_lexer": "ipython3",
   "version": "3.6.9"
  }
 },
 "nbformat": 4,
 "nbformat_minor": 4
}
